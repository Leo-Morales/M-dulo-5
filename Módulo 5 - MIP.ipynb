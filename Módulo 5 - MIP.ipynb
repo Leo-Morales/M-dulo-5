{
 "cells": [
  {
   "cell_type": "code",
   "execution_count": null,
   "metadata": {},
   "outputs": [],
   "source": []
  },
  {
   "cell_type": "markdown",
   "metadata": {},
   "source": [
    "SE SIMULARA UNA FABRICA DE COMPUTADORAS, QUE FABRICA COMPUTADORAS PORTÁTILES Y COMPUTADORAS DE ESCRITORIO\n",
    "\n",
    "- EN LA PEQUEÑA FABRICA SE CUENTA CON DOS ROBOTS QUE FABRICAN LOS COMPONENTES NECESARIOS, 1 INGENIERO QUE SE ENCARGA DEL ENSAMBLAJE DE LAS MAQUINAS ADEMAS DE PROGRAMAR Y CONTROLAR A LOS ROBOTS Y UN PROGRAMADOR QUE SE OCUPA DEL SOFTWARE DE LAS EQUIPOS.\n",
    "\n",
    "\n",
    "- A CONTINUACIÓN SE DETALLA CUANTO TIEMPO TARDA CADA UNO EN FABRICAR UNA LAPTOP Y UNA COMPUTADORA DE ESCRITORIO:\n",
    "\n",
    "\n",
    "    * TIEMPO QUE TARDA EL ROBOT:          Laptop – 3 Días       Escritorio – 2 Días \n",
    "\n",
    "    * TIEMPO QUE TARDA EL INGENIERO:      Laptop – 2 Días       Escritorio – 1 Días\n",
    "\n",
    "    * TIEMPO QUE TARDA EL PROGRAMADOR:    Laptop – 1.5 Días     Escritorio – 1.5 Días\n",
    "\n",
    "\n",
    "\n",
    "- LA LAPTOP SE VENDE EN 2000 DÓLARES Y LA COMPUTADORA DE ESCRITORIO SE LA VENDE EN 1500 DÓLARES\n",
    "- LA FABRICA SOLAMENTE FUNCIONA 21 DIAS AL MES\n",
    "\n"
   ]
  },
  {
   "cell_type": "markdown",
   "metadata": {},
   "source": [
    "La meta es producir la mayor cantidad posible de equipos"
   ]
  },
  {
   "cell_type": "code",
   "execution_count": 70,
   "metadata": {},
   "outputs": [],
   "source": [
    "import pulp\n",
    "\n",
    "model = pulp.LpProblem(\"\", pulp.LpMaximize)"
   ]
  },
  {
   "cell_type": "markdown",
   "metadata": {},
   "source": [
    "No se puede vender media computadora, asi que las variables deben ser de categoría tipo entero"
   ]
  },
  {
   "cell_type": "code",
   "execution_count": 71,
   "metadata": {},
   "outputs": [],
   "source": [
    "A = pulp.LpVariable('Laptop', lowBound=0, cat='Integer')\n",
    "B = pulp.LpVariable('Escritorio', lowBound=0, cat='Integer')"
   ]
  },
  {
   "cell_type": "markdown",
   "metadata": {},
   "source": [
    "Funciones:\n",
    "\n",
    "Laptop = A\n",
    "Escritorio = B\n",
    "\n",
    "Funcion a maximizar: \n",
    "                    2000 * A + 1500 * B\n",
    "\n",
    "Restricciones:\n",
    "\n",
    "                    A >= 0\n",
    "                    \n",
    "                    B >= 0\n",
    "                    \n",
    "                    3*A + 2*B <= 42 \n",
    "                    \n",
    "                    2*A + 1.5*B <= 21 \n",
    "                    \n",
    "                    1.5*A + 1.5*B <= 21 "
   ]
  },
  {
   "cell_type": "code",
   "execution_count": 72,
   "metadata": {},
   "outputs": [],
   "source": [
    "# Función principal\n",
    "model += 2000 * A + 1500 * B \n",
    "\n",
    "# Restricciones\n",
    "model += 3 * A + 2 * B <= 42\n",
    "model += 2 * A + 1.5 * B <= 21\n",
    "model += 1.5 * A + 1.5 * B <= 21\n"
   ]
  },
  {
   "cell_type": "markdown",
   "metadata": {},
   "source": [
    "Resolución del modelo"
   ]
  },
  {
   "cell_type": "code",
   "execution_count": 73,
   "metadata": {},
   "outputs": [
    {
     "data": {
      "text/plain": [
       "'Optimal'"
      ]
     },
     "execution_count": 73,
     "metadata": {},
     "output_type": "execute_result"
    }
   ],
   "source": [
    "model.solve()\n",
    "pulp.LpStatus[model.status]"
   ]
  },
  {
   "cell_type": "markdown",
   "metadata": {},
   "source": [
    "Imprimir los resultados"
   ]
  },
  {
   "cell_type": "code",
   "execution_count": 74,
   "metadata": {},
   "outputs": [
    {
     "name": "stdout",
     "output_type": "stream",
     "text": [
      "Producción de Computadoras portátiles = 9.0\n",
      "Producción de Ccomputadoras de escritorio = 2.0\n",
      "\n",
      "Si se vende todo lo que se produce, se llegaría a vender un máximo de:\n",
      "21000.0 Dólares\n"
     ]
    }
   ],
   "source": [
    "print (\"Producción de Computadoras portátiles = {}\".format(A.varValue))\n",
    "print (\"Producción de Ccomputadoras de escritorio = {}\".format(B.varValue))\n",
    "\n",
    "print (\"\\nSi se vende todo lo que se produce, se llegaría a vender un máximo de:\")\n",
    "print (str(pulp.value(model.objective)) + \" Dólares\")"
   ]
  },
  {
   "cell_type": "code",
   "execution_count": null,
   "metadata": {},
   "outputs": [],
   "source": []
  }
 ],
 "metadata": {
  "kernelspec": {
   "display_name": "Python 3",
   "language": "python",
   "name": "python3"
  },
  "language_info": {
   "codemirror_mode": {
    "name": "ipython",
    "version": 3
   },
   "file_extension": ".py",
   "mimetype": "text/x-python",
   "name": "python",
   "nbconvert_exporter": "python",
   "pygments_lexer": "ipython3",
   "version": "3.7.3"
  }
 },
 "nbformat": 4,
 "nbformat_minor": 2
}
